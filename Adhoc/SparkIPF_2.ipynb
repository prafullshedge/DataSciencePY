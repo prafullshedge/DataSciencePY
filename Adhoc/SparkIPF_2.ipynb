{
 "cells": [
  {
   "cell_type": "code",
   "execution_count": 20,
   "metadata": {},
   "outputs": [],
   "source": [
    "from pyspark.sql import SparkSession"
   ]
  },
  {
   "cell_type": "code",
   "execution_count": 24,
   "metadata": {},
   "outputs": [],
   "source": [
    "spark = SparkSession \\\n",
    "        .builder \\\n",
    "        .appName(\"Python Spark SQL basic example\") \\\n",
    "        .config(\"spark.some.config.option\", \"some-value\") \\\n",
    "        .getOrCreate()"
   ]
  },
  {
   "cell_type": "code",
   "execution_count": 37,
   "metadata": {},
   "outputs": [],
   "source": [
    "df_csv = spark.read.csv(\"C:\\Prafull\\Python Training\\Ipfcode\\queue\\ipf_ro_freud_nfs_dbo_depersonalisation_queue.csv\", header=True, inferSchema=True)"
   ]
  },
  {
   "cell_type": "code",
   "execution_count": 38,
   "metadata": {},
   "outputs": [
    {
     "name": "stdout",
     "output_type": "stream",
     "text": [
      "root\n",
      " |-- market|system|schema_name|table_name|table_location|mapping_location|output_location|ids: string (nullable = true)\n",
      "\n"
     ]
    }
   ],
   "source": [
    "df_csv.printSchema()"
   ]
  },
  {
   "cell_type": "code",
   "execution_count": null,
   "metadata": {},
   "outputs": [],
   "source": []
  },
  {
   "cell_type": "code",
   "execution_count": 33,
   "metadata": {},
   "outputs": [
    {
     "name": "stdout",
     "output_type": "stream",
     "text": [
      "[Row(market|system|schema_name|table_name|table_location|mapping_location|output_location|ids='romania|freud|NFS_DBO|Arrears_Contact_Detail_Table|C:\\\\Prafull\\\\Python Training\\\\Ipfcode\\\\source\\\\freud\\\\NFS_DBO\\\\Arrears_Contact_Detail_Table\\\\*|C:\\\\Prafull\\\\Python Training\\\\Ipfcode\\\\mappings\\\\romania\\\\freud\\\\nfs_dbo\\\\arrears_contact_detail_table_mapping.json|C:\\\\Prafull\\\\Python Training\\\\Ipfcode\\\\temp\\\\source\\\\freud\\\\NFS_DBO\\\\Arrears_Contact_Detail_Table\\\\|[[2252'), Row(market|system|schema_name|table_name|table_location|mapping_location|output_location|ids='romania|freud|NFS_DBO|Customer_Address_Table|C:\\\\Prafull\\\\Python Training\\\\Ipfcode\\\\source\\\\freud\\\\NFS_DBO\\\\Customer_Address_Table\\\\*|C:\\\\Prafull\\\\Python Training\\\\Ipfcode\\\\mappings\\\\romania\\\\freud\\\\nfs_dbo\\\\customer_address_table_mapping.json|C:\\\\Prafull\\\\Python Training\\\\Ipfcode\\\\temp\\\\source\\\\freud\\\\NFS_DBO\\\\Customer_Address_Table\\\\|[[19051'), Row(market|system|schema_name|table_name|table_location|mapping_location|output_location|ids='romania|freud|NFS_DBO|Customer_Agency_History_Table|C:\\\\Prafull\\\\Python Training\\\\Ipfcode\\\\source\\\\freud\\\\NFS_DBO\\\\Customer_Agency_History_Table\\\\*|C:\\\\Prafull\\\\Python Training\\\\Ipfcode\\\\mappings\\\\romania\\\\freud\\\\nfs_dbo\\\\customer_agency_history_table_mapping.json|C:\\\\Prafull\\\\Python Training\\\\Ipfcode\\\\temp\\\\source\\\\freud\\\\NFS_DBO\\\\Customer_Agency_History_Table\\\\|[[374543760]'), Row(market|system|schema_name|table_name|table_location|mapping_location|output_location|ids='romania|freud|NFS_DBO|Customer_Table|C:\\\\Prafull\\\\Python Training\\\\Ipfcode\\\\source\\\\freud\\\\NFS_DBO\\\\Customer_Table\\\\*|C:\\\\Prafull\\\\Python Training\\\\Ipfcode\\\\mappings\\\\romania\\\\freud\\\\nfs_dbo\\\\customer_table_mapping.json|C:\\\\Prafull\\\\Python Training\\\\Ipfcode\\\\temp\\\\source\\\\freud\\\\NFS_DBO\\\\Customer_Table\\\\|[[1704000032986]'), Row(market|system|schema_name|table_name|table_location|mapping_location|output_location|ids='romania|freud|NFS_DBO|Customer_Transfer_Request_Table|C:\\\\Prafull\\\\Python Training\\\\Ipfcode\\\\source\\\\freud\\\\NFS_DBO\\\\Customer_Transfer_Request_Table\\\\*|C:\\\\Prafull\\\\Python Training\\\\Ipfcode\\\\mappings\\\\romania\\\\freud\\\\nfs_dbo\\\\customer_transfer_request_table_mapping.json|C:\\\\Prafull\\\\Python Training\\\\Ipfcode\\\\temp\\\\source\\\\freud\\\\NFS_DBO\\\\Customer_Transfer_Request_Table\\\\|[[8583')]\n"
     ]
    }
   ],
   "source": [
    "print(df_csv.collect())"
   ]
  },
  {
   "cell_type": "code",
   "execution_count": 36,
   "metadata": {},
   "outputs": [
    {
     "name": "stdout",
     "output_type": "stream",
     "text": [
      "root\n",
      " |-- market|system|schema_name|table_name|table_location|mapping_location|output_location|ids: string (nullable = true)\n",
      "\n"
     ]
    }
   ],
   "source": [
    "df_csv.printSchema()"
   ]
  },
  {
   "cell_type": "code",
   "execution_count": null,
   "metadata": {},
   "outputs": [],
   "source": []
  },
  {
   "cell_type": "code",
   "execution_count": null,
   "metadata": {},
   "outputs": [],
   "source": []
  },
  {
   "cell_type": "code",
   "execution_count": null,
   "metadata": {},
   "outputs": [],
   "source": []
  }
 ],
 "metadata": {
  "kernelspec": {
   "display_name": "Python 3",
   "language": "python",
   "name": "python3"
  },
  "language_info": {
   "codemirror_mode": {
    "name": "ipython",
    "version": 3
   },
   "file_extension": ".py",
   "mimetype": "text/x-python",
   "name": "python",
   "nbconvert_exporter": "python",
   "pygments_lexer": "ipython3",
   "version": "3.7.5"
  }
 },
 "nbformat": 4,
 "nbformat_minor": 4
}
