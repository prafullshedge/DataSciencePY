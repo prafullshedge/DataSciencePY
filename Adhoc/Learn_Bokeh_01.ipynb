{
 "cells": [
  {
   "cell_type": "code",
   "execution_count": 2,
   "metadata": {},
   "outputs": [],
   "source": [
    "from bokeh.io import output_notebook, show, output_file\n",
    "from bokeh.plotting import figure, ColumnDataSource\n",
    "from bokeh.tile_providers import get_provider, Vendors\n",
    "from bokeh.palettes import PRGn, RdYlGn\n",
    "from bokeh.transform import linear_cmap,factor_cmap\n",
    "from bokeh.layouts import row, column\n",
    "from bokeh.models import GeoJSONDataSource, LinearColorMapper, ColorBar, NumeralTickFormatter\n",
    "import numpy as np\n",
    "import pandas as pd"
   ]
  },
  {
   "cell_type": "code",
   "execution_count": 5,
   "metadata": {},
   "outputs": [],
   "source": [
    "df = pd.read_csv('C:\\Prafull\\Python Training\\BokehAvocado-master/avocado_df.csv', index_col=0)"
   ]
  },
  {
   "cell_type": "code",
   "execution_count": 6,
   "metadata": {},
   "outputs": [
    {
     "data": {
      "text/html": [
       "<div>\n",
       "<style scoped>\n",
       "    .dataframe tbody tr th:only-of-type {\n",
       "        vertical-align: middle;\n",
       "    }\n",
       "\n",
       "    .dataframe tbody tr th {\n",
       "        vertical-align: top;\n",
       "    }\n",
       "\n",
       "    .dataframe thead th {\n",
       "        text-align: right;\n",
       "    }\n",
       "</style>\n",
       "<table border=\"1\" class=\"dataframe\">\n",
       "  <thead>\n",
       "    <tr style=\"text-align: right;\">\n",
       "      <th></th>\n",
       "      <th>region</th>\n",
       "      <th>AveragePrice</th>\n",
       "      <th>Total Volume</th>\n",
       "      <th>latitude</th>\n",
       "      <th>longitude</th>\n",
       "      <th>geometry</th>\n",
       "    </tr>\n",
       "  </thead>\n",
       "  <tbody>\n",
       "    <tr>\n",
       "      <th>0</th>\n",
       "      <td>Albany</td>\n",
       "      <td>1.561036</td>\n",
       "      <td>47537.86973</td>\n",
       "      <td>42.651550</td>\n",
       "      <td>-73.755211</td>\n",
       "      <td>POINT (-73.75521087646484 42.65155029296875)</td>\n",
       "    </tr>\n",
       "    <tr>\n",
       "      <th>1</th>\n",
       "      <td>Atlanta</td>\n",
       "      <td>1.337959</td>\n",
       "      <td>262145.32200</td>\n",
       "      <td>33.748310</td>\n",
       "      <td>-84.391113</td>\n",
       "      <td>POINT (-84.39111328125 33.74831008911133)</td>\n",
       "    </tr>\n",
       "    <tr>\n",
       "      <th>2</th>\n",
       "      <td>BaltimoreWashington</td>\n",
       "      <td>1.534231</td>\n",
       "      <td>398561.89150</td>\n",
       "      <td>39.183739</td>\n",
       "      <td>-76.674210</td>\n",
       "      <td>POINT (-76.67420959472656 39.18373870849609)</td>\n",
       "    </tr>\n",
       "    <tr>\n",
       "      <th>3</th>\n",
       "      <td>Boise</td>\n",
       "      <td>1.348136</td>\n",
       "      <td>42642.56731</td>\n",
       "      <td>43.607639</td>\n",
       "      <td>-116.193398</td>\n",
       "      <td>POINT (-116.1933975219727 43.60763931274414)</td>\n",
       "    </tr>\n",
       "    <tr>\n",
       "      <th>4</th>\n",
       "      <td>Boston</td>\n",
       "      <td>1.530888</td>\n",
       "      <td>287792.85450</td>\n",
       "      <td>42.358662</td>\n",
       "      <td>-71.056740</td>\n",
       "      <td>POINT (-71.05673980712891 42.35866165161133)</td>\n",
       "    </tr>\n",
       "  </tbody>\n",
       "</table>\n",
       "</div>"
      ],
      "text/plain": [
       "                region  AveragePrice  Total Volume   latitude   longitude  \\\n",
       "0               Albany      1.561036   47537.86973  42.651550  -73.755211   \n",
       "1              Atlanta      1.337959  262145.32200  33.748310  -84.391113   \n",
       "2  BaltimoreWashington      1.534231  398561.89150  39.183739  -76.674210   \n",
       "3                Boise      1.348136   42642.56731  43.607639 -116.193398   \n",
       "4               Boston      1.530888  287792.85450  42.358662  -71.056740   \n",
       "\n",
       "                                       geometry  \n",
       "0  POINT (-73.75521087646484 42.65155029296875)  \n",
       "1     POINT (-84.39111328125 33.74831008911133)  \n",
       "2  POINT (-76.67420959472656 39.18373870849609)  \n",
       "3  POINT (-116.1933975219727 43.60763931274414)  \n",
       "4  POINT (-71.05673980712891 42.35866165161133)  "
      ]
     },
     "metadata": {},
     "output_type": "display_data"
    }
   ],
   "source": [
    "display(df.head())"
   ]
  },
  {
   "cell_type": "code",
   "execution_count": 10,
   "metadata": {},
   "outputs": [],
   "source": [
    "# Define function to switch from lat/long to mercator coordinates\n",
    "def x_coord(x, y):\n",
    "    \n",
    "    lat = x\n",
    "    lon = y\n",
    "    \n",
    "    r_major = 6378137.000\n",
    "    x = r_major * np.radians(lon)\n",
    "    scale = x/lon\n",
    "    y = 180.0/np.pi * np.log(np.tan(np.pi/4.0 + \n",
    "        lat * (np.pi/180.0)/2.0)) * scale\n",
    "    return (x, y)"
   ]
  },
  {
   "cell_type": "code",
   "execution_count": 11,
   "metadata": {},
   "outputs": [],
   "source": [
    "# Define coord as tuple (lat,long)\n",
    "df['coordinates'] = list(zip(df['latitude'], df['longitude']))"
   ]
  },
  {
   "cell_type": "code",
   "execution_count": 12,
   "metadata": {},
   "outputs": [
    {
     "data": {
      "text/plain": [
       "0            (42.65155029, -73.75521088)\n",
       "1            (33.74831009, -84.39111328)\n",
       "2            (39.18373871, -76.67420959)\n",
       "3            (43.60763931, -116.1933975)\n",
       "4            (42.35866165, -71.05673981)\n",
       "5            (42.88544083, -78.87846375)\n",
       "6     (37.25510025, -119.61752320000001)\n",
       "7            (35.22285843, -80.83795929)\n",
       "8            (41.88425064, -87.63244629)\n",
       "9             (39.10712814, -84.5041275)\n",
       "10           (39.96199036, -83.00274658)\n",
       "11           (32.77822113, -96.79512024)\n",
       "12    (39.74000931, -104.99201969999999)\n",
       "13    (42.331680299999995, -83.04799652)\n",
       "14           (42.96641922, -85.67195129)\n",
       "16           (40.25986099, -76.88223267)\n",
       "17           (39.80130005, -89.64360046)\n",
       "18           (29.76058006, -95.36968231)\n",
       "19           (39.76691055, -86.14996338)\n",
       "20           (30.33147049, -81.65621948)\n",
       "21    (36.17192841, -115.14000700000001)\n",
       "22           (34.05348969, -118.2453232)\n",
       "23     (38.25489044, -85.76666259999999)\n",
       "24           (25.79072952, -80.16264343)\n",
       "26            (36.16783905, -86.7781601)\n",
       "27           (29.95369911, -90.07775116)\n",
       "28           (40.71455002, -74.00714111)\n",
       "30    (44.083057399999994, -70.58229828)\n",
       "31      (28.538230900000002, -81.377388)\n",
       "32           (39.95222092, -75.16217804)\n",
       "33    (33.44824982, -112.07579799999999)\n",
       "34           (40.43851089, -79.99733734)\n",
       "36           (45.51179123, -122.6756287)\n",
       "37           (35.78548813, -78.64272308)\n",
       "38           (37.54067993, -77.43367004)\n",
       "39           (37.27151871, -79.94056702)\n",
       "40           (38.57944107, -121.4908524)\n",
       "41    (32.71567917, -117.16171259999999)\n",
       "42           (37.77711868, -122.4196396)\n",
       "43    (47.60356903, -122.32945249999999)\n",
       "44           (33.90385437, -80.89376831)\n",
       "47           (47.65726089, -117.4122772)\n",
       "48            (38.6277504, -90.19956207)\n",
       "49           (43.05041885, -76.14737701)\n",
       "50           (27.94652939, -82.45926666)\n",
       "53           (34.42132187, -106.1084061)\n",
       "Name: coordinates, dtype: object"
      ]
     },
     "metadata": {},
     "output_type": "display_data"
    }
   ],
   "source": [
    "display(df['coordinates'])"
   ]
  },
  {
   "cell_type": "code",
   "execution_count": null,
   "metadata": {},
   "outputs": [],
   "source": [
    "# Obtain list of mercator coordinates\n",
    "mercators = [x_coord(x, y) for x, y in df['coordinates'] ]"
   ]
  },
  {
   "cell_type": "code",
   "execution_count": 13,
   "metadata": {},
   "outputs": [
    {
     "data": {
      "text/plain": [
       "[(-8210392.518512112, 5259083.750058974),\n",
       " (-9394375.757807067, 3995056.081948726),\n",
       " (-8535333.968535533, 4748024.844048325),\n",
       " (-12934589.843240427, 5404922.878631644),\n",
       " (-7910000.093079331, 5214857.553783183),\n",
       " (-8780710.419205688, 5294550.997113615),\n",
       " (-13315761.77257659, 4474724.373432678),\n",
       " (-8998840.464930179, 4194208.1081066164),\n",
       " (-9755199.297971696, 5143656.489979004),\n",
       " (-9406956.443229865, 4737028.397090816),\n",
       " (-9239823.48372873, 4860420.35855482),\n",
       " (-10775183.496390488, 3865903.3911412843),\n",
       " (-11687658.170361346, 4828232.7571731685),\n",
       " (-9244860.684007956, 5210793.761193497),\n",
       " (-9536957.992868936, 5306861.905796327),\n",
       " (-8558490.991874382, 4903776.738838303),\n",
       " (-9979079.956082866, 4837109.6173170265),\n",
       " (-10616504.47186547, 3472811.617105307),\n",
       " (-9590170.055320766, 4832127.944314424),\n",
       " (-9089928.772617387, 3546228.8387708315),\n",
       " (-12817326.949173955, 4324304.31723839),\n",
       " (-13163009.167310057, 4035986.6479969937),\n",
       " (-9547501.207670499, 4615496.12342457),\n",
       " (-8923664.647270357, 2973184.9000500003),\n",
       " (-9660100.59430917, 4323740.410351709),\n",
       " (-10027409.39093441, 3497599.683100071),\n",
       " (-8238437.263431144, 4970328.593411483),\n",
       " (-7857185.5035485495, 5478304.516772939),\n",
       " (-9058889.39424665, 3317003.4338524994),\n",
       " (-8367015.386326169, 4859001.581018613),\n",
       " (-12476220.763609787, 3954953.896419829),\n",
       " (-8905262.85750653, 4929871.610069398),\n",
       " (-13656188.519628698, 5702455.629876003),\n",
       " (-8754467.887862023, 4271144.8725399785),\n",
       " (-8619876.719107162, 4514740.9593564505),\n",
       " (-8898943.21439196, 4477020.872142495),\n",
       " (-13524299.825208759, 4661607.906542916),\n",
       " (-13042382.187099861, 3857625.6521677924),\n",
       " (-13627691.943368068, 4547987.8274052525),\n",
       " (-13617652.361319944, 6041154.434269913),\n",
       " (-9005053.09661825, 4015899.311703785),\n",
       " (-13070274.910782686, 6050023.494955454),\n",
       " (-10040969.319408672, 4668489.415103627),\n",
       " (-8476687.233996626, 5319649.261448675),\n",
       " (-9179323.575777961, 3242234.0401207316),\n",
       " (-11811933.735937882, 4085516.538845842)]"
      ]
     },
     "metadata": {},
     "output_type": "display_data"
    }
   ],
   "source": [
    "display(mercators)"
   ]
  },
  {
   "cell_type": "code",
   "execution_count": 16,
   "metadata": {},
   "outputs": [],
   "source": [
    "df = df.drop(columns=['geometry'])"
   ]
  },
  {
   "cell_type": "code",
   "execution_count": 17,
   "metadata": {},
   "outputs": [
    {
     "data": {
      "text/html": [
       "<div>\n",
       "<style scoped>\n",
       "    .dataframe tbody tr th:only-of-type {\n",
       "        vertical-align: middle;\n",
       "    }\n",
       "\n",
       "    .dataframe tbody tr th {\n",
       "        vertical-align: top;\n",
       "    }\n",
       "\n",
       "    .dataframe thead th {\n",
       "        text-align: right;\n",
       "    }\n",
       "</style>\n",
       "<table border=\"1\" class=\"dataframe\">\n",
       "  <thead>\n",
       "    <tr style=\"text-align: right;\">\n",
       "      <th></th>\n",
       "      <th>region</th>\n",
       "      <th>AveragePrice</th>\n",
       "      <th>Total Volume</th>\n",
       "      <th>latitude</th>\n",
       "      <th>longitude</th>\n",
       "      <th>coordinates</th>\n",
       "    </tr>\n",
       "  </thead>\n",
       "  <tbody>\n",
       "    <tr>\n",
       "      <th>0</th>\n",
       "      <td>Albany</td>\n",
       "      <td>1.561036</td>\n",
       "      <td>47537.86973</td>\n",
       "      <td>42.651550</td>\n",
       "      <td>-73.755211</td>\n",
       "      <td>(42.65155029, -73.75521088)</td>\n",
       "    </tr>\n",
       "    <tr>\n",
       "      <th>1</th>\n",
       "      <td>Atlanta</td>\n",
       "      <td>1.337959</td>\n",
       "      <td>262145.32200</td>\n",
       "      <td>33.748310</td>\n",
       "      <td>-84.391113</td>\n",
       "      <td>(33.74831009, -84.39111328)</td>\n",
       "    </tr>\n",
       "    <tr>\n",
       "      <th>2</th>\n",
       "      <td>BaltimoreWashington</td>\n",
       "      <td>1.534231</td>\n",
       "      <td>398561.89150</td>\n",
       "      <td>39.183739</td>\n",
       "      <td>-76.674210</td>\n",
       "      <td>(39.18373871, -76.67420959)</td>\n",
       "    </tr>\n",
       "    <tr>\n",
       "      <th>3</th>\n",
       "      <td>Boise</td>\n",
       "      <td>1.348136</td>\n",
       "      <td>42642.56731</td>\n",
       "      <td>43.607639</td>\n",
       "      <td>-116.193398</td>\n",
       "      <td>(43.60763931, -116.1933975)</td>\n",
       "    </tr>\n",
       "    <tr>\n",
       "      <th>4</th>\n",
       "      <td>Boston</td>\n",
       "      <td>1.530888</td>\n",
       "      <td>287792.85450</td>\n",
       "      <td>42.358662</td>\n",
       "      <td>-71.056740</td>\n",
       "      <td>(42.35866165, -71.05673981)</td>\n",
       "    </tr>\n",
       "  </tbody>\n",
       "</table>\n",
       "</div>"
      ],
      "text/plain": [
       "                region  AveragePrice  Total Volume   latitude   longitude  \\\n",
       "0               Albany      1.561036   47537.86973  42.651550  -73.755211   \n",
       "1              Atlanta      1.337959  262145.32200  33.748310  -84.391113   \n",
       "2  BaltimoreWashington      1.534231  398561.89150  39.183739  -76.674210   \n",
       "3                Boise      1.348136   42642.56731  43.607639 -116.193398   \n",
       "4               Boston      1.530888  287792.85450  42.358662  -71.056740   \n",
       "\n",
       "                   coordinates  \n",
       "0  (42.65155029, -73.75521088)  \n",
       "1  (33.74831009, -84.39111328)  \n",
       "2  (39.18373871, -76.67420959)  \n",
       "3  (43.60763931, -116.1933975)  \n",
       "4  (42.35866165, -71.05673981)  "
      ]
     },
     "execution_count": 17,
     "metadata": {},
     "output_type": "execute_result"
    }
   ],
   "source": [
    "# Examine our modified DataFrame\n",
    "df.head()"
   ]
  },
  {
   "cell_type": "code",
   "execution_count": 19,
   "metadata": {},
   "outputs": [],
   "source": [
    "# Select tile set to use\n",
    "chosentile = get_provider(Vendors.STAMEN_TONER)"
   ]
  },
  {
   "cell_type": "code",
   "execution_count": 20,
   "metadata": {},
   "outputs": [],
   "source": [
    "# Choose palette\n",
    "palette = PRGn[11]"
   ]
  },
  {
   "cell_type": "code",
   "execution_count": 21,
   "metadata": {},
   "outputs": [],
   "source": [
    "# Tell Bokeh to use df as the source of the data\n",
    "source = ColumnDataSource(data=df)"
   ]
  },
  {
   "cell_type": "code",
   "execution_count": 22,
   "metadata": {},
   "outputs": [],
   "source": [
    "# Define color mapper - which column will define the colour of the data points\n",
    "color_mapper = linear_cmap(field_name = 'AveragePrice', palette = palette, low = df['AveragePrice'].min(), high = df['AveragePrice'].max())"
   ]
  },
  {
   "cell_type": "code",
   "execution_count": 23,
   "metadata": {},
   "outputs": [],
   "source": [
    "# Set tooltips - these appear when we hover over a data point in our map, very nifty and very useful\n",
    "tooltips = [(\"Price\",\"@AveragePrice\"), (\"Region\",\"@region\")]"
   ]
  },
  {
   "cell_type": "code",
   "execution_count": 24,
   "metadata": {},
   "outputs": [],
   "source": [
    "# Create figure\n",
    "p = figure(title = 'Avocado Prices by region in the United States', x_axis_type=\"mercator\", y_axis_type=\"mercator\", x_axis_label = 'Longitude', y_axis_label = 'Latitude', tooltips = tooltips)"
   ]
  },
  {
   "cell_type": "code",
   "execution_count": 25,
   "metadata": {},
   "outputs": [
    {
     "data": {
      "text/html": [
       "<div style=\"display: table;\"><div style=\"display: table-row;\"><div style=\"display: table-cell;\"><b title=\"bokeh.models.renderers.TileRenderer\">TileRenderer</b>(</div><div style=\"display: table-cell;\">id&nbsp;=&nbsp;'1048', <span id=\"1051\" style=\"cursor: pointer;\">&hellip;)</span></div></div><div class=\"1050\" style=\"display: none;\"><div style=\"display: table-cell;\"></div><div style=\"display: table-cell;\">alpha&nbsp;=&nbsp;1.0,</div></div><div class=\"1050\" style=\"display: none;\"><div style=\"display: table-cell;\"></div><div style=\"display: table-cell;\">js_event_callbacks&nbsp;=&nbsp;{},</div></div><div class=\"1050\" style=\"display: none;\"><div style=\"display: table-cell;\"></div><div style=\"display: table-cell;\">js_property_callbacks&nbsp;=&nbsp;{},</div></div><div class=\"1050\" style=\"display: none;\"><div style=\"display: table-cell;\"></div><div style=\"display: table-cell;\">level&nbsp;=&nbsp;'glyph',</div></div><div class=\"1050\" style=\"display: none;\"><div style=\"display: table-cell;\"></div><div style=\"display: table-cell;\">name&nbsp;=&nbsp;None,</div></div><div class=\"1050\" style=\"display: none;\"><div style=\"display: table-cell;\"></div><div style=\"display: table-cell;\">render_parents&nbsp;=&nbsp;True,</div></div><div class=\"1050\" style=\"display: none;\"><div style=\"display: table-cell;\"></div><div style=\"display: table-cell;\">smoothing&nbsp;=&nbsp;True,</div></div><div class=\"1050\" style=\"display: none;\"><div style=\"display: table-cell;\"></div><div style=\"display: table-cell;\">subscribed_events&nbsp;=&nbsp;[],</div></div><div class=\"1050\" style=\"display: none;\"><div style=\"display: table-cell;\"></div><div style=\"display: table-cell;\">tags&nbsp;=&nbsp;[],</div></div><div class=\"1050\" style=\"display: none;\"><div style=\"display: table-cell;\"></div><div style=\"display: table-cell;\">tile_source&nbsp;=&nbsp;WMTSTileSource(id='1001', ...),</div></div><div class=\"1050\" style=\"display: none;\"><div style=\"display: table-cell;\"></div><div style=\"display: table-cell;\">visible&nbsp;=&nbsp;True,</div></div><div class=\"1050\" style=\"display: none;\"><div style=\"display: table-cell;\"></div><div style=\"display: table-cell;\">x_range_name&nbsp;=&nbsp;'default',</div></div><div class=\"1050\" style=\"display: none;\"><div style=\"display: table-cell;\"></div><div style=\"display: table-cell;\">y_range_name&nbsp;=&nbsp;'default')</div></div></div>\n",
       "<script>\n",
       "(function() {\n",
       "  var expanded = false;\n",
       "  var ellipsis = document.getElementById(\"1051\");\n",
       "  ellipsis.addEventListener(\"click\", function() {\n",
       "    var rows = document.getElementsByClassName(\"1050\");\n",
       "    for (var i = 0; i < rows.length; i++) {\n",
       "      var el = rows[i];\n",
       "      el.style.display = expanded ? \"none\" : \"table-row\";\n",
       "    }\n",
       "    ellipsis.innerHTML = expanded ? \"&hellip;)\" : \"&lsaquo;&lsaquo;&lsaquo;\";\n",
       "    expanded = !expanded;\n",
       "  });\n",
       "})();\n",
       "</script>\n"
      ],
      "text/plain": [
       "TileRenderer(id='1048', ...)"
      ]
     },
     "execution_count": 25,
     "metadata": {},
     "output_type": "execute_result"
    }
   ],
   "source": [
    "# Add map tile\n",
    "p.add_tile(chosentile)"
   ]
  },
  {
   "cell_type": "code",
   "execution_count": 26,
   "metadata": {},
   "outputs": [
    {
     "data": {
      "text/html": [
       "<div style=\"display: table;\"><div style=\"display: table-row;\"><div style=\"display: table-cell;\"><b title=\"bokeh.models.renderers.GlyphRenderer\">GlyphRenderer</b>(</div><div style=\"display: table-cell;\">id&nbsp;=&nbsp;'1055', <span id=\"1058\" style=\"cursor: pointer;\">&hellip;)</span></div></div><div class=\"1057\" style=\"display: none;\"><div style=\"display: table-cell;\"></div><div style=\"display: table-cell;\">data_source&nbsp;=&nbsp;ColumnDataSource(id='1002', ...),</div></div><div class=\"1057\" style=\"display: none;\"><div style=\"display: table-cell;\"></div><div style=\"display: table-cell;\">glyph&nbsp;=&nbsp;Circle(id='1053', ...),</div></div><div class=\"1057\" style=\"display: none;\"><div style=\"display: table-cell;\"></div><div style=\"display: table-cell;\">hover_glyph&nbsp;=&nbsp;None,</div></div><div class=\"1057\" style=\"display: none;\"><div style=\"display: table-cell;\"></div><div style=\"display: table-cell;\">js_event_callbacks&nbsp;=&nbsp;{},</div></div><div class=\"1057\" style=\"display: none;\"><div style=\"display: table-cell;\"></div><div style=\"display: table-cell;\">js_property_callbacks&nbsp;=&nbsp;{},</div></div><div class=\"1057\" style=\"display: none;\"><div style=\"display: table-cell;\"></div><div style=\"display: table-cell;\">level&nbsp;=&nbsp;'glyph',</div></div><div class=\"1057\" style=\"display: none;\"><div style=\"display: table-cell;\"></div><div style=\"display: table-cell;\">muted&nbsp;=&nbsp;False,</div></div><div class=\"1057\" style=\"display: none;\"><div style=\"display: table-cell;\"></div><div style=\"display: table-cell;\">muted_glyph&nbsp;=&nbsp;None,</div></div><div class=\"1057\" style=\"display: none;\"><div style=\"display: table-cell;\"></div><div style=\"display: table-cell;\">name&nbsp;=&nbsp;None,</div></div><div class=\"1057\" style=\"display: none;\"><div style=\"display: table-cell;\"></div><div style=\"display: table-cell;\">nonselection_glyph&nbsp;=&nbsp;Circle(id='1054', ...),</div></div><div class=\"1057\" style=\"display: none;\"><div style=\"display: table-cell;\"></div><div style=\"display: table-cell;\">selection_glyph&nbsp;=&nbsp;None,</div></div><div class=\"1057\" style=\"display: none;\"><div style=\"display: table-cell;\"></div><div style=\"display: table-cell;\">subscribed_events&nbsp;=&nbsp;[],</div></div><div class=\"1057\" style=\"display: none;\"><div style=\"display: table-cell;\"></div><div style=\"display: table-cell;\">tags&nbsp;=&nbsp;[],</div></div><div class=\"1057\" style=\"display: none;\"><div style=\"display: table-cell;\"></div><div style=\"display: table-cell;\">view&nbsp;=&nbsp;CDSView(id='1056', ...),</div></div><div class=\"1057\" style=\"display: none;\"><div style=\"display: table-cell;\"></div><div style=\"display: table-cell;\">visible&nbsp;=&nbsp;True,</div></div><div class=\"1057\" style=\"display: none;\"><div style=\"display: table-cell;\"></div><div style=\"display: table-cell;\">x_range_name&nbsp;=&nbsp;'default',</div></div><div class=\"1057\" style=\"display: none;\"><div style=\"display: table-cell;\"></div><div style=\"display: table-cell;\">y_range_name&nbsp;=&nbsp;'default')</div></div></div>\n",
       "<script>\n",
       "(function() {\n",
       "  var expanded = false;\n",
       "  var ellipsis = document.getElementById(\"1058\");\n",
       "  ellipsis.addEventListener(\"click\", function() {\n",
       "    var rows = document.getElementsByClassName(\"1057\");\n",
       "    for (var i = 0; i < rows.length; i++) {\n",
       "      var el = rows[i];\n",
       "      el.style.display = expanded ? \"none\" : \"table-row\";\n",
       "    }\n",
       "    ellipsis.innerHTML = expanded ? \"&hellip;)\" : \"&lsaquo;&lsaquo;&lsaquo;\";\n",
       "    expanded = !expanded;\n",
       "  });\n",
       "})();\n",
       "</script>\n"
      ],
      "text/plain": [
       "GlyphRenderer(id='1055', ...)"
      ]
     },
     "execution_count": 26,
     "metadata": {},
     "output_type": "execute_result"
    }
   ],
   "source": [
    "# Add points using mercator coordinates\n",
    "p.circle(x = 'mercator_x', y = 'mercator_y', color = color_mapper, source=source, size=30, fill_alpha = 0.7)"
   ]
  },
  {
   "cell_type": "code",
   "execution_count": 27,
   "metadata": {},
   "outputs": [],
   "source": [
    "#Defines color bar\n",
    "color_bar = ColorBar(color_mapper=color_mapper['transform'], \n",
    "                     formatter = NumeralTickFormatter(format='0.0[0000]'), \n",
    "                     label_standoff = 13, width=8, location=(0,0))\n",
    "# Set color_bar location\n",
    "p.add_layout(color_bar, 'right')"
   ]
  },
  {
   "cell_type": "code",
   "execution_count": 28,
   "metadata": {},
   "outputs": [],
   "source": [
    "#Defines color bar\n",
    "color_bar = ColorBar(color_mapper=color_mapper['transform'], \n",
    "                     formatter = NumeralTickFormatter(format='0.0[0000]'), \n",
    "                     label_standoff = 13, width=8, location=(0,0))\n",
    "# Set color_bar location\n",
    "p.add_layout(color_bar, 'right')"
   ]
  },
  {
   "cell_type": "code",
   "execution_count": 30,
   "metadata": {},
   "outputs": [
    {
     "data": {
      "text/html": [
       "\n",
       "    <div class=\"bk-root\">\n",
       "        <a href=\"https://bokeh.org\" target=\"_blank\" class=\"bk-logo bk-logo-small bk-logo-notebook\"></a>\n",
       "        <span id=\"1186\">Loading BokehJS ...</span>\n",
       "    </div>"
      ]
     },
     "metadata": {},
     "output_type": "display_data"
    },
    {
     "data": {
      "application/javascript": [
       "\n",
       "(function(root) {\n",
       "  function now() {\n",
       "    return new Date();\n",
       "  }\n",
       "\n",
       "  var force = true;\n",
       "\n",
       "  if (typeof root._bokeh_onload_callbacks === \"undefined\" || force === true) {\n",
       "    root._bokeh_onload_callbacks = [];\n",
       "    root._bokeh_is_loading = undefined;\n",
       "  }\n",
       "\n",
       "  var JS_MIME_TYPE = 'application/javascript';\n",
       "  var HTML_MIME_TYPE = 'text/html';\n",
       "  var EXEC_MIME_TYPE = 'application/vnd.bokehjs_exec.v0+json';\n",
       "  var CLASS_NAME = 'output_bokeh rendered_html';\n",
       "\n",
       "  /**\n",
       "   * Render data to the DOM node\n",
       "   */\n",
       "  function render(props, node) {\n",
       "    var script = document.createElement(\"script\");\n",
       "    node.appendChild(script);\n",
       "  }\n",
       "\n",
       "  /**\n",
       "   * Handle when an output is cleared or removed\n",
       "   */\n",
       "  function handleClearOutput(event, handle) {\n",
       "    var cell = handle.cell;\n",
       "\n",
       "    var id = cell.output_area._bokeh_element_id;\n",
       "    var server_id = cell.output_area._bokeh_server_id;\n",
       "    // Clean up Bokeh references\n",
       "    if (id != null && id in Bokeh.index) {\n",
       "      Bokeh.index[id].model.document.clear();\n",
       "      delete Bokeh.index[id];\n",
       "    }\n",
       "\n",
       "    if (server_id !== undefined) {\n",
       "      // Clean up Bokeh references\n",
       "      var cmd = \"from bokeh.io.state import curstate; print(curstate().uuid_to_server['\" + server_id + \"'].get_sessions()[0].document.roots[0]._id)\";\n",
       "      cell.notebook.kernel.execute(cmd, {\n",
       "        iopub: {\n",
       "          output: function(msg) {\n",
       "            var id = msg.content.text.trim();\n",
       "            if (id in Bokeh.index) {\n",
       "              Bokeh.index[id].model.document.clear();\n",
       "              delete Bokeh.index[id];\n",
       "            }\n",
       "          }\n",
       "        }\n",
       "      });\n",
       "      // Destroy server and session\n",
       "      var cmd = \"import bokeh.io.notebook as ion; ion.destroy_server('\" + server_id + \"')\";\n",
       "      cell.notebook.kernel.execute(cmd);\n",
       "    }\n",
       "  }\n",
       "\n",
       "  /**\n",
       "   * Handle when a new output is added\n",
       "   */\n",
       "  function handleAddOutput(event, handle) {\n",
       "    var output_area = handle.output_area;\n",
       "    var output = handle.output;\n",
       "\n",
       "    // limit handleAddOutput to display_data with EXEC_MIME_TYPE content only\n",
       "    if ((output.output_type != \"display_data\") || (!output.data.hasOwnProperty(EXEC_MIME_TYPE))) {\n",
       "      return\n",
       "    }\n",
       "\n",
       "    var toinsert = output_area.element.find(\".\" + CLASS_NAME.split(' ')[0]);\n",
       "\n",
       "    if (output.metadata[EXEC_MIME_TYPE][\"id\"] !== undefined) {\n",
       "      toinsert[toinsert.length - 1].firstChild.textContent = output.data[JS_MIME_TYPE];\n",
       "      // store reference to embed id on output_area\n",
       "      output_area._bokeh_element_id = output.metadata[EXEC_MIME_TYPE][\"id\"];\n",
       "    }\n",
       "    if (output.metadata[EXEC_MIME_TYPE][\"server_id\"] !== undefined) {\n",
       "      var bk_div = document.createElement(\"div\");\n",
       "      bk_div.innerHTML = output.data[HTML_MIME_TYPE];\n",
       "      var script_attrs = bk_div.children[0].attributes;\n",
       "      for (var i = 0; i < script_attrs.length; i++) {\n",
       "        toinsert[toinsert.length - 1].firstChild.setAttribute(script_attrs[i].name, script_attrs[i].value);\n",
       "      }\n",
       "      // store reference to server id on output_area\n",
       "      output_area._bokeh_server_id = output.metadata[EXEC_MIME_TYPE][\"server_id\"];\n",
       "    }\n",
       "  }\n",
       "\n",
       "  function register_renderer(events, OutputArea) {\n",
       "\n",
       "    function append_mime(data, metadata, element) {\n",
       "      // create a DOM node to render to\n",
       "      var toinsert = this.create_output_subarea(\n",
       "        metadata,\n",
       "        CLASS_NAME,\n",
       "        EXEC_MIME_TYPE\n",
       "      );\n",
       "      this.keyboard_manager.register_events(toinsert);\n",
       "      // Render to node\n",
       "      var props = {data: data, metadata: metadata[EXEC_MIME_TYPE]};\n",
       "      render(props, toinsert[toinsert.length - 1]);\n",
       "      element.append(toinsert);\n",
       "      return toinsert\n",
       "    }\n",
       "\n",
       "    /* Handle when an output is cleared or removed */\n",
       "    events.on('clear_output.CodeCell', handleClearOutput);\n",
       "    events.on('delete.Cell', handleClearOutput);\n",
       "\n",
       "    /* Handle when a new output is added */\n",
       "    events.on('output_added.OutputArea', handleAddOutput);\n",
       "\n",
       "    /**\n",
       "     * Register the mime type and append_mime function with output_area\n",
       "     */\n",
       "    OutputArea.prototype.register_mime_type(EXEC_MIME_TYPE, append_mime, {\n",
       "      /* Is output safe? */\n",
       "      safe: true,\n",
       "      /* Index of renderer in `output_area.display_order` */\n",
       "      index: 0\n",
       "    });\n",
       "  }\n",
       "\n",
       "  // register the mime type if in Jupyter Notebook environment and previously unregistered\n",
       "  if (root.Jupyter !== undefined) {\n",
       "    var events = require('base/js/events');\n",
       "    var OutputArea = require('notebook/js/outputarea').OutputArea;\n",
       "\n",
       "    if (OutputArea.prototype.mime_types().indexOf(EXEC_MIME_TYPE) == -1) {\n",
       "      register_renderer(events, OutputArea);\n",
       "    }\n",
       "  }\n",
       "\n",
       "  \n",
       "  if (typeof (root._bokeh_timeout) === \"undefined\" || force === true) {\n",
       "    root._bokeh_timeout = Date.now() + 5000;\n",
       "    root._bokeh_failed_load = false;\n",
       "  }\n",
       "\n",
       "  var NB_LOAD_WARNING = {'data': {'text/html':\n",
       "     \"<div style='background-color: #fdd'>\\n\"+\n",
       "     \"<p>\\n\"+\n",
       "     \"BokehJS does not appear to have successfully loaded. If loading BokehJS from CDN, this \\n\"+\n",
       "     \"may be due to a slow or bad network connection. Possible fixes:\\n\"+\n",
       "     \"</p>\\n\"+\n",
       "     \"<ul>\\n\"+\n",
       "     \"<li>re-rerun `output_notebook()` to attempt to load from CDN again, or</li>\\n\"+\n",
       "     \"<li>use INLINE resources instead, as so:</li>\\n\"+\n",
       "     \"</ul>\\n\"+\n",
       "     \"<code>\\n\"+\n",
       "     \"from bokeh.resources import INLINE\\n\"+\n",
       "     \"output_notebook(resources=INLINE)\\n\"+\n",
       "     \"</code>\\n\"+\n",
       "     \"</div>\"}};\n",
       "\n",
       "  function display_loaded() {\n",
       "    var el = document.getElementById(\"1186\");\n",
       "    if (el != null) {\n",
       "      el.textContent = \"BokehJS is loading...\";\n",
       "    }\n",
       "    if (root.Bokeh !== undefined) {\n",
       "      if (el != null) {\n",
       "        el.textContent = \"BokehJS \" + root.Bokeh.version + \" successfully loaded.\";\n",
       "      }\n",
       "    } else if (Date.now() < root._bokeh_timeout) {\n",
       "      setTimeout(display_loaded, 100)\n",
       "    }\n",
       "  }\n",
       "\n",
       "\n",
       "  function run_callbacks() {\n",
       "    try {\n",
       "      root._bokeh_onload_callbacks.forEach(function(callback) {\n",
       "        if (callback != null)\n",
       "          callback();\n",
       "      });\n",
       "    } finally {\n",
       "      delete root._bokeh_onload_callbacks\n",
       "    }\n",
       "    console.debug(\"Bokeh: all callbacks have finished\");\n",
       "  }\n",
       "\n",
       "  function load_libs(css_urls, js_urls, callback) {\n",
       "    if (css_urls == null) css_urls = [];\n",
       "    if (js_urls == null) js_urls = [];\n",
       "\n",
       "    root._bokeh_onload_callbacks.push(callback);\n",
       "    if (root._bokeh_is_loading > 0) {\n",
       "      console.debug(\"Bokeh: BokehJS is being loaded, scheduling callback at\", now());\n",
       "      return null;\n",
       "    }\n",
       "    if (js_urls == null || js_urls.length === 0) {\n",
       "      run_callbacks();\n",
       "      return null;\n",
       "    }\n",
       "    console.debug(\"Bokeh: BokehJS not loaded, scheduling load and callback at\", now());\n",
       "    root._bokeh_is_loading = css_urls.length + js_urls.length;\n",
       "\n",
       "    function on_load() {\n",
       "      root._bokeh_is_loading--;\n",
       "      if (root._bokeh_is_loading === 0) {\n",
       "        console.debug(\"Bokeh: all BokehJS libraries/stylesheets loaded\");\n",
       "        run_callbacks()\n",
       "      }\n",
       "    }\n",
       "\n",
       "    function on_error() {\n",
       "      console.error(\"failed to load \" + url);\n",
       "    }\n",
       "\n",
       "    for (var i = 0; i < css_urls.length; i++) {\n",
       "      var url = css_urls[i];\n",
       "      const element = document.createElement(\"link\");\n",
       "      element.onload = on_load;\n",
       "      element.onerror = on_error;\n",
       "      element.rel = \"stylesheet\";\n",
       "      element.type = \"text/css\";\n",
       "      element.href = url;\n",
       "      console.debug(\"Bokeh: injecting link tag for BokehJS stylesheet: \", url);\n",
       "      document.body.appendChild(element);\n",
       "    }\n",
       "\n",
       "    for (var i = 0; i < js_urls.length; i++) {\n",
       "      var url = js_urls[i];\n",
       "      var element = document.createElement('script');\n",
       "      element.onload = on_load;\n",
       "      element.onerror = on_error;\n",
       "      element.async = false;\n",
       "      element.src = url;\n",
       "      console.debug(\"Bokeh: injecting script tag for BokehJS library: \", url);\n",
       "      document.head.appendChild(element);\n",
       "    }\n",
       "  };var element = document.getElementById(\"1186\");\n",
       "  if (element == null) {\n",
       "    console.error(\"Bokeh: ERROR: autoload.js configured with elementid '1186' but no matching script tag was found. \")\n",
       "    return false;\n",
       "  }\n",
       "\n",
       "  function inject_raw_css(css) {\n",
       "    const element = document.createElement(\"style\");\n",
       "    element.appendChild(document.createTextNode(css));\n",
       "    document.body.appendChild(element);\n",
       "  }\n",
       "\n",
       "  \n",
       "  var js_urls = [\"https://cdn.pydata.org/bokeh/release/bokeh-1.4.0.min.js\", \"https://cdn.pydata.org/bokeh/release/bokeh-widgets-1.4.0.min.js\", \"https://cdn.pydata.org/bokeh/release/bokeh-tables-1.4.0.min.js\", \"https://cdn.pydata.org/bokeh/release/bokeh-gl-1.4.0.min.js\"];\n",
       "  var css_urls = [];\n",
       "  \n",
       "\n",
       "  var inline_js = [\n",
       "    function(Bokeh) {\n",
       "      Bokeh.set_log_level(\"info\");\n",
       "    },\n",
       "    function(Bokeh) {\n",
       "    \n",
       "    \n",
       "    }\n",
       "  ];\n",
       "\n",
       "  function run_inline_js() {\n",
       "    \n",
       "    if (root.Bokeh !== undefined || force === true) {\n",
       "      \n",
       "    for (var i = 0; i < inline_js.length; i++) {\n",
       "      inline_js[i].call(root, root.Bokeh);\n",
       "    }\n",
       "    if (force === true) {\n",
       "        display_loaded();\n",
       "      }} else if (Date.now() < root._bokeh_timeout) {\n",
       "      setTimeout(run_inline_js, 100);\n",
       "    } else if (!root._bokeh_failed_load) {\n",
       "      console.log(\"Bokeh: BokehJS failed to load within specified timeout.\");\n",
       "      root._bokeh_failed_load = true;\n",
       "    } else if (force !== true) {\n",
       "      var cell = $(document.getElementById(\"1186\")).parents('.cell').data().cell;\n",
       "      cell.output_area.append_execute_result(NB_LOAD_WARNING)\n",
       "    }\n",
       "\n",
       "  }\n",
       "\n",
       "  if (root._bokeh_is_loading === 0) {\n",
       "    console.debug(\"Bokeh: BokehJS loaded, going straight to plotting\");\n",
       "    run_inline_js();\n",
       "  } else {\n",
       "    load_libs(css_urls, js_urls, function() {\n",
       "      console.debug(\"Bokeh: BokehJS plotting callback run at\", now());\n",
       "      run_inline_js();\n",
       "    });\n",
       "  }\n",
       "}(window));"
      ],
      "application/vnd.bokehjs_load.v0+json": "\n(function(root) {\n  function now() {\n    return new Date();\n  }\n\n  var force = true;\n\n  if (typeof root._bokeh_onload_callbacks === \"undefined\" || force === true) {\n    root._bokeh_onload_callbacks = [];\n    root._bokeh_is_loading = undefined;\n  }\n\n  \n\n  \n  if (typeof (root._bokeh_timeout) === \"undefined\" || force === true) {\n    root._bokeh_timeout = Date.now() + 5000;\n    root._bokeh_failed_load = false;\n  }\n\n  var NB_LOAD_WARNING = {'data': {'text/html':\n     \"<div style='background-color: #fdd'>\\n\"+\n     \"<p>\\n\"+\n     \"BokehJS does not appear to have successfully loaded. If loading BokehJS from CDN, this \\n\"+\n     \"may be due to a slow or bad network connection. Possible fixes:\\n\"+\n     \"</p>\\n\"+\n     \"<ul>\\n\"+\n     \"<li>re-rerun `output_notebook()` to attempt to load from CDN again, or</li>\\n\"+\n     \"<li>use INLINE resources instead, as so:</li>\\n\"+\n     \"</ul>\\n\"+\n     \"<code>\\n\"+\n     \"from bokeh.resources import INLINE\\n\"+\n     \"output_notebook(resources=INLINE)\\n\"+\n     \"</code>\\n\"+\n     \"</div>\"}};\n\n  function display_loaded() {\n    var el = document.getElementById(\"1186\");\n    if (el != null) {\n      el.textContent = \"BokehJS is loading...\";\n    }\n    if (root.Bokeh !== undefined) {\n      if (el != null) {\n        el.textContent = \"BokehJS \" + root.Bokeh.version + \" successfully loaded.\";\n      }\n    } else if (Date.now() < root._bokeh_timeout) {\n      setTimeout(display_loaded, 100)\n    }\n  }\n\n\n  function run_callbacks() {\n    try {\n      root._bokeh_onload_callbacks.forEach(function(callback) {\n        if (callback != null)\n          callback();\n      });\n    } finally {\n      delete root._bokeh_onload_callbacks\n    }\n    console.debug(\"Bokeh: all callbacks have finished\");\n  }\n\n  function load_libs(css_urls, js_urls, callback) {\n    if (css_urls == null) css_urls = [];\n    if (js_urls == null) js_urls = [];\n\n    root._bokeh_onload_callbacks.push(callback);\n    if (root._bokeh_is_loading > 0) {\n      console.debug(\"Bokeh: BokehJS is being loaded, scheduling callback at\", now());\n      return null;\n    }\n    if (js_urls == null || js_urls.length === 0) {\n      run_callbacks();\n      return null;\n    }\n    console.debug(\"Bokeh: BokehJS not loaded, scheduling load and callback at\", now());\n    root._bokeh_is_loading = css_urls.length + js_urls.length;\n\n    function on_load() {\n      root._bokeh_is_loading--;\n      if (root._bokeh_is_loading === 0) {\n        console.debug(\"Bokeh: all BokehJS libraries/stylesheets loaded\");\n        run_callbacks()\n      }\n    }\n\n    function on_error() {\n      console.error(\"failed to load \" + url);\n    }\n\n    for (var i = 0; i < css_urls.length; i++) {\n      var url = css_urls[i];\n      const element = document.createElement(\"link\");\n      element.onload = on_load;\n      element.onerror = on_error;\n      element.rel = \"stylesheet\";\n      element.type = \"text/css\";\n      element.href = url;\n      console.debug(\"Bokeh: injecting link tag for BokehJS stylesheet: \", url);\n      document.body.appendChild(element);\n    }\n\n    for (var i = 0; i < js_urls.length; i++) {\n      var url = js_urls[i];\n      var element = document.createElement('script');\n      element.onload = on_load;\n      element.onerror = on_error;\n      element.async = false;\n      element.src = url;\n      console.debug(\"Bokeh: injecting script tag for BokehJS library: \", url);\n      document.head.appendChild(element);\n    }\n  };var element = document.getElementById(\"1186\");\n  if (element == null) {\n    console.error(\"Bokeh: ERROR: autoload.js configured with elementid '1186' but no matching script tag was found. \")\n    return false;\n  }\n\n  function inject_raw_css(css) {\n    const element = document.createElement(\"style\");\n    element.appendChild(document.createTextNode(css));\n    document.body.appendChild(element);\n  }\n\n  \n  var js_urls = [\"https://cdn.pydata.org/bokeh/release/bokeh-1.4.0.min.js\", \"https://cdn.pydata.org/bokeh/release/bokeh-widgets-1.4.0.min.js\", \"https://cdn.pydata.org/bokeh/release/bokeh-tables-1.4.0.min.js\", \"https://cdn.pydata.org/bokeh/release/bokeh-gl-1.4.0.min.js\"];\n  var css_urls = [];\n  \n\n  var inline_js = [\n    function(Bokeh) {\n      Bokeh.set_log_level(\"info\");\n    },\n    function(Bokeh) {\n    \n    \n    }\n  ];\n\n  function run_inline_js() {\n    \n    if (root.Bokeh !== undefined || force === true) {\n      \n    for (var i = 0; i < inline_js.length; i++) {\n      inline_js[i].call(root, root.Bokeh);\n    }\n    if (force === true) {\n        display_loaded();\n      }} else if (Date.now() < root._bokeh_timeout) {\n      setTimeout(run_inline_js, 100);\n    } else if (!root._bokeh_failed_load) {\n      console.log(\"Bokeh: BokehJS failed to load within specified timeout.\");\n      root._bokeh_failed_load = true;\n    } else if (force !== true) {\n      var cell = $(document.getElementById(\"1186\")).parents('.cell').data().cell;\n      cell.output_area.append_execute_result(NB_LOAD_WARNING)\n    }\n\n  }\n\n  if (root._bokeh_is_loading === 0) {\n    console.debug(\"Bokeh: BokehJS loaded, going straight to plotting\");\n    run_inline_js();\n  } else {\n    load_libs(css_urls, js_urls, function() {\n      console.debug(\"Bokeh: BokehJS plotting callback run at\", now());\n      run_inline_js();\n    });\n  }\n}(window));"
     },
     "metadata": {},
     "output_type": "display_data"
    }
   ],
   "source": [
    "# Display in notebook\n",
    "output_notebook()\n",
    "# Save as HTML\n",
    "output_file('avocado.html', title='Avocado Prices by region in the United States')"
   ]
  },
  {
   "cell_type": "code",
   "execution_count": 33,
   "metadata": {},
   "outputs": [
    {
     "name": "stderr",
     "output_type": "stream",
     "text": [
      "ERROR:bokeh.core.validation.check:E-1001 (BAD_COLUMN_NAME): Glyph refers to nonexistent column name. This could either be due to a misspelling or typo, or due to an expected column being missing. : key \"x\" value \"mercator_x\", key \"y\" value \"mercator_y\" [renderer: GlyphRenderer(id='1055', ...)]\n"
     ]
    },
    {
     "data": {
      "text/html": [
       "\n",
       "\n",
       "\n",
       "\n",
       "\n",
       "\n",
       "  <div class=\"bk-root\" id=\"741437d6-406a-436b-ae31-f9566d1d52fe\" data-root-id=\"1004\"></div>\n"
      ]
     },
     "metadata": {},
     "output_type": "display_data"
    },
    {
     "data": {
      "application/javascript": [
       "(function(root) {\n",
       "  function embed_document(root) {\n",
       "    \n",
       "  var docs_json = {\"bd95cf0d-c409-47a8-b7dc-59ab9118b595\":{\"roots\":{\"references\":[{\"attributes\":{\"below\":[{\"id\":\"1015\",\"type\":\"MercatorAxis\"}],\"center\":[{\"id\":\"1023\",\"type\":\"Grid\"},{\"id\":\"1032\",\"type\":\"Grid\"}],\"left\":[{\"id\":\"1024\",\"type\":\"MercatorAxis\"}],\"renderers\":[{\"id\":\"1048\",\"type\":\"TileRenderer\"},{\"id\":\"1055\",\"type\":\"GlyphRenderer\"}],\"right\":[{\"id\":\"1060\",\"type\":\"ColorBar\"},{\"id\":\"1063\",\"type\":\"ColorBar\"}],\"title\":{\"id\":\"1005\",\"type\":\"Title\"},\"toolbar\":{\"id\":\"1040\",\"type\":\"Toolbar\"},\"x_range\":{\"id\":\"1007\",\"type\":\"DataRange1d\"},\"x_scale\":{\"id\":\"1011\",\"type\":\"LinearScale\"},\"y_range\":{\"id\":\"1009\",\"type\":\"DataRange1d\"},\"y_scale\":{\"id\":\"1013\",\"type\":\"LinearScale\"}},\"id\":\"1004\",\"subtype\":\"Figure\",\"type\":\"Plot\"},{\"attributes\":{},\"id\":\"1036\",\"type\":\"SaveTool\"},{\"attributes\":{\"source\":{\"id\":\"1002\",\"type\":\"ColumnDataSource\"}},\"id\":\"1056\",\"type\":\"CDSView\"},{\"attributes\":{},\"id\":\"1011\",\"type\":\"LinearScale\"},{\"attributes\":{\"callback\":null},\"id\":\"1009\",\"type\":\"DataRange1d\"},{\"attributes\":{\"bottom_units\":\"screen\",\"fill_alpha\":{\"value\":0.5},\"fill_color\":{\"value\":\"lightgrey\"},\"left_units\":\"screen\",\"level\":\"overlay\",\"line_alpha\":{\"value\":1.0},\"line_color\":{\"value\":\"black\"},\"line_dash\":[4,4],\"line_width\":{\"value\":2},\"render_mode\":\"css\",\"right_units\":\"screen\",\"top_units\":\"screen\"},\"id\":\"1072\",\"type\":\"BoxAnnotation\"},{\"attributes\":{\"data_source\":{\"id\":\"1002\",\"type\":\"ColumnDataSource\"},\"glyph\":{\"id\":\"1053\",\"type\":\"Circle\"},\"hover_glyph\":null,\"muted_glyph\":null,\"nonselection_glyph\":{\"id\":\"1054\",\"type\":\"Circle\"},\"selection_glyph\":null,\"view\":{\"id\":\"1056\",\"type\":\"CDSView\"}},\"id\":\"1055\",\"type\":\"GlyphRenderer\"},{\"attributes\":{\"callback\":null},\"id\":\"1007\",\"type\":\"DataRange1d\"},{\"attributes\":{\"overlay\":{\"id\":\"1072\",\"type\":\"BoxAnnotation\"}},\"id\":\"1035\",\"type\":\"BoxZoomTool\"},{\"attributes\":{},\"id\":\"1037\",\"type\":\"ResetTool\"},{\"attributes\":{\"active_drag\":\"auto\",\"active_inspect\":\"auto\",\"active_multi\":null,\"active_scroll\":\"auto\",\"active_tap\":\"auto\",\"tools\":[{\"id\":\"1033\",\"type\":\"PanTool\"},{\"id\":\"1034\",\"type\":\"WheelZoomTool\"},{\"id\":\"1035\",\"type\":\"BoxZoomTool\"},{\"id\":\"1036\",\"type\":\"SaveTool\"},{\"id\":\"1037\",\"type\":\"ResetTool\"},{\"id\":\"1038\",\"type\":\"HelpTool\"},{\"id\":\"1039\",\"type\":\"HoverTool\"}]},\"id\":\"1040\",\"type\":\"Toolbar\"},{\"attributes\":{},\"id\":\"1034\",\"type\":\"WheelZoomTool\"},{\"attributes\":{\"ticker\":{\"id\":\"1016\",\"type\":\"MercatorTicker\"}},\"id\":\"1023\",\"type\":\"Grid\"},{\"attributes\":{\"tile_source\":{\"id\":\"1001\",\"type\":\"WMTSTileSource\"}},\"id\":\"1048\",\"type\":\"TileRenderer\"},{\"attributes\":{\"callback\":null,\"tooltips\":[[\"Price\",\"@AveragePrice\"],[\"Region\",\"@region\"]]},\"id\":\"1039\",\"type\":\"HoverTool\"},{\"attributes\":{\"dimension\":1,\"ticker\":{\"id\":\"1025\",\"type\":\"MercatorTicker\"}},\"id\":\"1032\",\"type\":\"Grid\"},{\"attributes\":{},\"id\":\"1038\",\"type\":\"HelpTool\"},{\"attributes\":{\"dimension\":\"lat\"},\"id\":\"1027\",\"type\":\"MercatorTickFormatter\"},{\"attributes\":{\"attribution\":\"Map tiles by <a href=\\\"https://stamen.com\\\">Stamen Design</a>, under <a href=\\\"https://creativecommons.org/licenses/by/3.0\\\">CC BY 3.0</a>. Data by <a href=\\\"https://openstreetmap.org\\\">OpenStreetMap</a>, under <a href=\\\"https://www.openstreetmap.org/copyright\\\">ODbL</a>.\",\"url\":\"http://tile.stamen.com/toner/{Z}/{X}/{Y}.png\"},\"id\":\"1001\",\"type\":\"WMTSTileSource\"},{\"attributes\":{\"axis_label\":\"Latitude\",\"formatter\":{\"id\":\"1027\",\"type\":\"MercatorTickFormatter\"},\"ticker\":{\"id\":\"1025\",\"type\":\"MercatorTicker\"}},\"id\":\"1024\",\"type\":\"MercatorAxis\"},{\"attributes\":{\"color_mapper\":{\"id\":\"1003\",\"type\":\"LinearColorMapper\"},\"formatter\":{\"id\":\"1062\",\"type\":\"NumeralTickFormatter\"},\"label_standoff\":13,\"location\":[0,0],\"ticker\":{\"id\":\"1071\",\"type\":\"BasicTicker\"},\"width\":8},\"id\":\"1063\",\"type\":\"ColorBar\"},{\"attributes\":{\"dimension\":\"lon\"},\"id\":\"1018\",\"type\":\"MercatorTickFormatter\"},{\"attributes\":{\"high\":1.818639053,\"low\":1.047928994,\"palette\":[\"#00441b\",\"#1b7837\",\"#5aae61\",\"#a6dba0\",\"#d9f0d3\",\"#f7f7f7\",\"#e7d4e8\",\"#c2a5cf\",\"#9970ab\",\"#762a83\",\"#40004b\"]},\"id\":\"1003\",\"type\":\"LinearColorMapper\"},{\"attributes\":{},\"id\":\"1070\",\"type\":\"BasicTicker\"},{\"attributes\":{},\"id\":\"1074\",\"type\":\"UnionRenderers\"},{\"attributes\":{\"dimension\":\"lat\"},\"id\":\"1025\",\"type\":\"MercatorTicker\"},{\"attributes\":{\"color_mapper\":{\"id\":\"1003\",\"type\":\"LinearColorMapper\"},\"formatter\":{\"id\":\"1059\",\"type\":\"NumeralTickFormatter\"},\"label_standoff\":13,\"location\":[0,0],\"ticker\":{\"id\":\"1070\",\"type\":\"BasicTicker\"},\"width\":8},\"id\":\"1060\",\"type\":\"ColorBar\"},{\"attributes\":{\"callback\":null,\"data\":{\"AveragePrice\":{\"__ndarray__\":\"g3oUXQD6+D+mCohBR2j1P27zFZA1jPg/fFBpJ/eR9T+r7AL4g374PzybXRD0RPg/XBvUxUBT9j88mZlIUrL5P0Ervg6N6Pg/60/0VuNY8z+dkXMoZAv0P9F0UGuVXvE/fw5Mnk1/8z+SmPs/4mr0PxSuR+F6FPg/fToKT2k2+D+I0H1DJRn9P7MpXDFRxPA/zPXZqB4G9T/3FMF+1iz4P5T2ipc8GPY/rh7UnsJ08z8w2hh4RJb0P+1MQ4IZ2/Y/xqIhl8Nk8z/lINSEbuD0PzvRzJgkpPs/vp+/dWqj9z9P6VHSchn4P84xlYg0Hfo/dCT6KUyX8z+jJVy2QNT1PwiIOo1jFfU/8IOJxcPh+D/rtLwSS6n0P+Zcj2SE9/M/TqghVvHx+T9o1d/54l72P3E7Rg8C3vw/rA7Xb8gU9z+6ROHy2XP2P5RqecckIfc/pdCQKdPj9j9cG9TFQFP4P/VnyEOiivY/bv2b5+0v9D8=\",\"dtype\":\"float64\",\"shape\":[46]},\"Total Volume\":{\"__ndarray__\":\"SwLU1Ds250A1XrpJBQAQQUJg5ZCHUxhBF01nJ1LS5EBKDAJrw5ARQcCV7NgElvBAJQaBNfI5R0HKMsSxnq75QJCg+DHEJBhBE2HDU08UAEFk6UMXHKr1QBniWDdi0SJBtMh2/igVGUEIrBxawucGQTS6g1h90vVAxyk6ku0y/kAbnl6pxkwCQXGsi7sAWCJB1a2ekwrc9UDY9Qt2mMv0QM6I0l5zowNBu0kMgrztNkEgRgiPCEHnQI9TdCQ4oxFBlPYGXxO5+UDKMsSxxYAAQUoMAktOvCVBqaROQJ7VCUFGlPYGgy8FQSUGgZXm8QlBTtGRvBSqIUHXhopxAivrQDlFRzKW9hNB3nGKDp1oAUH2KFyP9YD+QELsTKGMFvJAMZkqmE8lC0HG3LVE4jYQQQN4C+QhhxhBBaOSeru4E0F3LSEfB/EFQW4vaYxjfOZAYtaLoaAq90DEQq1psJ3fQNSa5p191gdBIbBy6MFUGkE=\",\"dtype\":\"float64\",\"shape\":[46]},\"coordinates\":[[42.65155029,-73.75521088],[33.74831009,-84.39111328],[39.18373871,-76.67420959],[43.60763931,-116.1933975],[42.35866165,-71.05673981],[42.88544083,-78.87846375],[37.25510025,-119.61752320000001],[35.22285843,-80.83795929],[41.88425064,-87.63244629],[39.10712814,-84.5041275],[39.96199036,-83.00274658],[32.77822113,-96.79512024],[39.74000931,-104.99201969999999],[42.331680299999995,-83.04799652],[42.96641922,-85.67195129],[40.25986099,-76.88223267],[39.80130005,-89.64360046],[29.76058006,-95.36968231],[39.76691055,-86.14996338],[30.33147049,-81.65621948],[36.17192841,-115.14000700000001],[34.05348969,-118.2453232],[38.25489044,-85.76666259999999],[25.79072952,-80.16264343],[36.16783905,-86.7781601],[29.95369911,-90.07775116],[40.71455002,-74.00714111],[44.083057399999994,-70.58229828],[28.538230900000002,-81.377388],[39.95222092,-75.16217804],[33.44824982,-112.07579799999999],[40.43851089,-79.99733734],[45.51179123,-122.6756287],[35.78548813,-78.64272308],[37.54067993,-77.43367004],[37.27151871,-79.94056702],[38.57944107,-121.4908524],[32.71567917,-117.16171259999999],[37.77711868,-122.4196396],[47.60356903,-122.32945249999999],[33.90385437,-80.89376831],[47.65726089,-117.4122772],[38.6277504,-90.19956207],[43.05041885,-76.14737701],[27.94652939,-82.45926666],[34.42132187,-106.1084061]],\"index\":[0,1,2,3,4,5,6,7,8,9,10,11,12,13,14,16,17,18,19,20,21,22,23,24,26,27,28,30,31,32,33,34,36,37,38,39,40,41,42,43,44,47,48,49,50,53],\"latitude\":{\"__ndarray__\":\"6p/5/2VTRUCN6AGgyN9AQMg6A8CEl0NAZRv6H8fNRUAqivyf6C1FQFGyByBWcUVAyHn/H6egQkB0PgKghpxBQC8i/h8v8URAAuT4X7aNQ0A2ogeAIvtDQP0z/7+cY0BAv5cEoLjeQ0AdnQSAdCpFQBsQAKCze0VAMcf6H0MhREA/hAIAkeZDQJGw81+1wj1Ai5r5HyriQ0CcIwJA21Q+QAUaCcABFkJAkZwKwNgGQUB47vs/oCBDQLxh9D9tyjlA8F7/v3sVQkCfrPefJfQ9QMmgA2B2W0RAa1j4n6EKRkBYMhGAyYk8QMj7BmDi+UNAQKsGQGC5QEC0vvUfIThEQGSdAWCCwUZAg98C4IrkQUAPevz/NMVCQN/ZBSDBokJA/M3+HytKQ0AKygJgm1tAQPja+Z9440JAPl3+v0HNR0CTv/9/sfNAQLS+9R8h1EdAhAYHIFpQQ0AM7fcfdIZFQLnABsBP8jtAql4C4O01QUA=\",\"dtype\":\"float64\",\"shape\":[46]},\"longitude\":{\"__ndarray__\":\"vcsDYFVwUsBnqP7/BxlVwMbs+j8mK1PANGjon2AMXcAzFQOgocNRwC0+BcA4uFPAXSEHgIXnXcB7ewAgoTVUwLMBAQB66FXA6WD9n0MgVcCn0f3/LMBUwAPMAEDjMljANh8yQH0/WsAy7v5fEsNUwIXD+z8Ba1XAN0cEgHY4U8D/2Pu/MGlWwAbX/d+o11fApiwBAJmJVcBIZv1//2lUwION69/1yFzAzjwUYLOPXcA+hAIAEXFVwJgw/b9oClTAVSMFYM2xVcBFWwDg+YRWwA96/P90gFLAfkcBYESlUcDIef8fJ1hUwHt7ACBhylLAisba39kEXMBMmP5f1P9TwEyvKIA9q17AAD/8XyKpU8CFw/s/wVtTwCimA0Ay/FPAcEovIGpfXsB4Fs5/WUpdwNGGDWDbml7Ad0XwvxWVXsCtaf9/MzlUwLy46L9iWl3AAwv9n8WMVsB3iPufbglTwPY1/Z9knVTA9osjIPCGWsA=\",\"dtype\":\"float64\",\"shape\":[46]},\"region\":[\"Albany\",\"Atlanta\",\"BaltimoreWashington\",\"Boise\",\"Boston\",\"BuffaloRochester\",\"California\",\"Charlotte\",\"Chicago\",\"CincinnatiDayton\",\"Columbus\",\"DallasFtWorth\",\"Denver\",\"Detroit\",\"GrandRapids\",\"HarrisburgScranton\",\"HartfordSpringfield\",\"Houston\",\"Indianapolis\",\"Jacksonville\",\"LasVegas\",\"LosAngeles\",\"Louisville\",\"MiamiFtLauderdale\",\"Nashville\",\"NewOrleansMobile\",\"NewYork\",\"NorthernNewEngland\",\"Orlando\",\"Philadelphia\",\"PhoenixTucson\",\"Pittsburgh\",\"Portland\",\"RaleighGreensboro\",\"RichmondNorfolk\",\"Roanoke\",\"Sacramento\",\"SanDiego\",\"SanFrancisco\",\"Seattle\",\"SouthCarolina\",\"Spokane\",\"StLouis\",\"Syracuse\",\"Tampa\",\"WestTexNewMexico\"]},\"selected\":{\"id\":\"1073\",\"type\":\"Selection\"},\"selection_policy\":{\"id\":\"1074\",\"type\":\"UnionRenderers\"}},\"id\":\"1002\",\"type\":\"ColumnDataSource\"},{\"attributes\":{},\"id\":\"1033\",\"type\":\"PanTool\"},{\"attributes\":{\"fill_alpha\":{\"value\":0.7},\"fill_color\":{\"field\":\"AveragePrice\",\"transform\":{\"id\":\"1003\",\"type\":\"LinearColorMapper\"}},\"line_color\":{\"field\":\"AveragePrice\",\"transform\":{\"id\":\"1003\",\"type\":\"LinearColorMapper\"}},\"size\":{\"units\":\"screen\",\"value\":30},\"x\":{\"field\":\"mercator_x\"},\"y\":{\"field\":\"mercator_y\"}},\"id\":\"1053\",\"type\":\"Circle\"},{\"attributes\":{\"dimension\":\"lon\"},\"id\":\"1016\",\"type\":\"MercatorTicker\"},{\"attributes\":{\"axis_label\":\"Longitude\",\"formatter\":{\"id\":\"1018\",\"type\":\"MercatorTickFormatter\"},\"ticker\":{\"id\":\"1016\",\"type\":\"MercatorTicker\"}},\"id\":\"1015\",\"type\":\"MercatorAxis\"},{\"attributes\":{},\"id\":\"1013\",\"type\":\"LinearScale\"},{\"attributes\":{},\"id\":\"1073\",\"type\":\"Selection\"},{\"attributes\":{},\"id\":\"1071\",\"type\":\"BasicTicker\"},{\"attributes\":{\"format\":\"0.0[0000]\"},\"id\":\"1059\",\"type\":\"NumeralTickFormatter\"},{\"attributes\":{\"format\":\"0.0[0000]\"},\"id\":\"1062\",\"type\":\"NumeralTickFormatter\"},{\"attributes\":{\"text\":\"Avocado Prices by region in the United States\"},\"id\":\"1005\",\"type\":\"Title\"},{\"attributes\":{\"fill_alpha\":{\"value\":0.1},\"fill_color\":{\"value\":\"#1f77b4\"},\"line_alpha\":{\"value\":0.1},\"line_color\":{\"value\":\"#1f77b4\"},\"size\":{\"units\":\"screen\",\"value\":30},\"x\":{\"field\":\"mercator_x\"},\"y\":{\"field\":\"mercator_y\"}},\"id\":\"1054\",\"type\":\"Circle\"}],\"root_ids\":[\"1004\"]},\"title\":\"Bokeh Application\",\"version\":\"1.4.0\"}};\n",
       "  var render_items = [{\"docid\":\"bd95cf0d-c409-47a8-b7dc-59ab9118b595\",\"roots\":{\"1004\":\"741437d6-406a-436b-ae31-f9566d1d52fe\"}}];\n",
       "  root.Bokeh.embed.embed_items_notebook(docs_json, render_items);\n",
       "\n",
       "  }\n",
       "  if (root.Bokeh !== undefined) {\n",
       "    embed_document(root);\n",
       "  } else {\n",
       "    var attempts = 0;\n",
       "    var timer = setInterval(function(root) {\n",
       "      if (root.Bokeh !== undefined) {\n",
       "        clearInterval(timer);\n",
       "        embed_document(root);\n",
       "      } else {\n",
       "        attempts++;\n",
       "        if (attempts > 100) {\n",
       "          clearInterval(timer);\n",
       "          console.log(\"Bokeh: ERROR: Unable to run BokehJS code because BokehJS library is missing\");\n",
       "        }\n",
       "      }\n",
       "    }, 10, root)\n",
       "  }\n",
       "})(window);"
      ],
      "application/vnd.bokehjs_exec.v0+json": ""
     },
     "metadata": {
      "application/vnd.bokehjs_exec.v0+json": {
       "id": "1004"
      }
     },
     "output_type": "display_data"
    },
    {
     "name": "stderr",
     "output_type": "stream",
     "text": [
      "ERROR:bokeh.core.validation.check:E-1001 (BAD_COLUMN_NAME): Glyph refers to nonexistent column name. This could either be due to a misspelling or typo, or due to an expected column being missing. : key \"x\" value \"mercator_x\", key \"y\" value \"mercator_y\" [renderer: GlyphRenderer(id='1055', ...)]\n"
     ]
    }
   ],
   "source": [
    "# Show map\n",
    "show(p)"
   ]
  },
  {
   "cell_type": "code",
   "execution_count": null,
   "metadata": {},
   "outputs": [],
   "source": []
  },
  {
   "cell_type": "code",
   "execution_count": null,
   "metadata": {},
   "outputs": [],
   "source": []
  },
  {
   "cell_type": "code",
   "execution_count": null,
   "metadata": {},
   "outputs": [],
   "source": []
  },
  {
   "cell_type": "code",
   "execution_count": null,
   "metadata": {},
   "outputs": [],
   "source": []
  },
  {
   "cell_type": "code",
   "execution_count": null,
   "metadata": {},
   "outputs": [],
   "source": []
  },
  {
   "cell_type": "code",
   "execution_count": null,
   "metadata": {},
   "outputs": [],
   "source": []
  },
  {
   "cell_type": "code",
   "execution_count": null,
   "metadata": {},
   "outputs": [],
   "source": []
  },
  {
   "cell_type": "code",
   "execution_count": null,
   "metadata": {},
   "outputs": [],
   "source": []
  },
  {
   "cell_type": "code",
   "execution_count": null,
   "metadata": {},
   "outputs": [],
   "source": []
  },
  {
   "cell_type": "code",
   "execution_count": 18,
   "metadata": {},
   "outputs": [
    {
     "ename": "NameError",
     "evalue": "name 'D' is not defined",
     "output_type": "error",
     "traceback": [
      "\u001b[1;31m---------------------------------------------------------------------------\u001b[0m",
      "\u001b[1;31mNameError\u001b[0m                                 Traceback (most recent call last)",
      "\u001b[1;32m<ipython-input-18-e68861e87c8d>\u001b[0m in \u001b[0;36m<module>\u001b[1;34m\u001b[0m\n\u001b[1;32m----> 1\u001b[1;33m \u001b[0mD\u001b[0m\u001b[1;33m,\u001b[0m\u001b[0mD\u001b[0m\u001b[1;33m\u001b[0m\u001b[1;33m\u001b[0m\u001b[0m\n\u001b[0m",
      "\u001b[1;31mNameError\u001b[0m: name 'D' is not defined"
     ]
    }
   ],
   "source": []
  },
  {
   "cell_type": "code",
   "execution_count": null,
   "metadata": {},
   "outputs": [],
   "source": []
  }
 ],
 "metadata": {
  "kernelspec": {
   "display_name": "Python 3",
   "language": "python",
   "name": "python3"
  },
  "language_info": {
   "codemirror_mode": {
    "name": "ipython",
    "version": 3
   },
   "file_extension": ".py",
   "mimetype": "text/x-python",
   "name": "python",
   "nbconvert_exporter": "python",
   "pygments_lexer": "ipython3",
   "version": "3.7.5"
  }
 },
 "nbformat": 4,
 "nbformat_minor": 4
}
