{
 "cells": [
  {
   "cell_type": "code",
   "execution_count": 1,
   "metadata": {},
   "outputs": [],
   "source": [
    "from pyspark.sql import SparkSession"
   ]
  },
  {
   "cell_type": "code",
   "execution_count": 27,
   "metadata": {},
   "outputs": [],
   "source": [
    "from pyspark.context import SparkContext"
   ]
  },
  {
   "cell_type": "code",
   "execution_count": 28,
   "metadata": {},
   "outputs": [],
   "source": [
    "sc = SparkContext.getOrCreate()"
   ]
  },
  {
   "cell_type": "code",
   "execution_count": 31,
   "metadata": {},
   "outputs": [],
   "source": [
    "from pyspark.sql import functions as Fn"
   ]
  },
  {
   "cell_type": "code",
   "execution_count": 2,
   "metadata": {},
   "outputs": [],
   "source": [
    "spark = SparkSession \\\n",
    "        .builder \\\n",
    "        .appName(\"Python Spark SQL basic example\") \\\n",
    "        .config(\"spark.some.config.option\", \"some-value\") \\\n",
    "        .getOrCreate()"
   ]
  },
  {
   "cell_type": "code",
   "execution_count": 5,
   "metadata": {},
   "outputs": [],
   "source": [
    "df = spark.read.parquet(\"C:\\\\Prafull\\\\Python Training\\\\Ipfcode\\\\source\\\\freud\\\\NFS_DBO\\\\Arrears_Contact_Detail_Table\\\\*\")"
   ]
  },
  {
   "cell_type": "code",
   "execution_count": 6,
   "metadata": {},
   "outputs": [
    {
     "data": {
      "text/plain": [
       "743059"
      ]
     },
     "execution_count": 6,
     "metadata": {},
     "output_type": "execute_result"
    }
   ],
   "source": [
    "df.count()"
   ]
  },
  {
   "cell_type": "code",
   "execution_count": 8,
   "metadata": {},
   "outputs": [],
   "source": [
    "column_names = df.schema.names"
   ]
  },
  {
   "cell_type": "code",
   "execution_count": 9,
   "metadata": {},
   "outputs": [],
   "source": [
    "table_schema = df.schema"
   ]
  },
  {
   "cell_type": "code",
   "execution_count": 10,
   "metadata": {},
   "outputs": [],
   "source": [
    "df_mapping = spark.read.option(\"multiline\", \"true\").json(\"C:\\\\Prafull\\\\Python Training\\\\Ipfcode\\\\mappings\\\\romania\\\\freud\\\\nfs_dbo\\\\arrears_contact_detail_table_mapping.json\")"
   ]
  },
  {
   "cell_type": "code",
   "execution_count": 11,
   "metadata": {},
   "outputs": [],
   "source": [
    "id_col = df_mapping.select(\"id_column\").collect()[0][0]"
   ]
  },
  {
   "cell_type": "code",
   "execution_count": 15,
   "metadata": {},
   "outputs": [],
   "source": [
    "pii_columns = df_mapping.select(\"pii_columns\").collect()[0][0]"
   ]
  },
  {
   "cell_type": "code",
   "execution_count": 16,
   "metadata": {},
   "outputs": [],
   "source": [
    "mapping = df_mapping.select(\"gdpr_mappings\").collect()[0][0]"
   ]
  },
  {
   "cell_type": "code",
   "execution_count": 20,
   "metadata": {},
   "outputs": [],
   "source": [
    "import ast"
   ]
  },
  {
   "cell_type": "code",
   "execution_count": 23,
   "metadata": {},
   "outputs": [],
   "source": [
    " id_q = ast.literal_eval(\"[[2252, 1704], 1704000032986]\")"
   ]
  },
  {
   "cell_type": "code",
   "execution_count": 24,
   "metadata": {},
   "outputs": [
    {
     "name": "stdout",
     "output_type": "stream",
     "text": [
      "[[2252, 1704], 1704000032986]\n"
     ]
    }
   ],
   "source": [
    "print(id_q)"
   ]
  },
  {
   "cell_type": "code",
   "execution_count": 25,
   "metadata": {},
   "outputs": [],
   "source": [
    "if type(id_q) is not tuple:\n",
    "                id_q = tuple([id_q])"
   ]
  },
  {
   "cell_type": "code",
   "execution_count": 29,
   "metadata": {},
   "outputs": [],
   "source": [
    "df_filter = sc.parallelize(id_q).toDF()"
   ]
  },
  {
   "cell_type": "code",
   "execution_count": 32,
   "metadata": {},
   "outputs": [],
   "source": [
    "for x in range(len(id_col)):\n",
    "                df_filter = df_filter.withColumn(id_col[x], Fn.col('_1')[x])"
   ]
  },
  {
   "cell_type": "code",
   "execution_count": 33,
   "metadata": {},
   "outputs": [
    {
     "name": "stdout",
     "output_type": "stream",
     "text": [
      "DataFrame[_1: array<bigint>, _2: bigint, arrears_contact_detail_id: bigint, arrears_contact_detail_db_id: bigint]\n"
     ]
    }
   ],
   "source": [
    "print(df_filter)"
   ]
  },
  {
   "cell_type": "code",
   "execution_count": 34,
   "metadata": {},
   "outputs": [],
   "source": [
    "df_add = df.join(Fn.broadcast(df_filter), id_col, \"inner\")"
   ]
  },
  {
   "cell_type": "code",
   "execution_count": 35,
   "metadata": {},
   "outputs": [
    {
     "name": "stdout",
     "output_type": "stream",
     "text": [
      "DataFrame[arrears_contact_detail_id: bigint, arrears_contact_detail_db_id: bigint, agreed_rate: double, agreed_rate_start_date: string, agreed_rate_end_date: string, army_personnel_details: string, asset_information: string, debt_agency_company_code: string, customer_contact_db_id: bigint, customer_contact_id: bigint, customer_id: bigint, debt_agency_code: string, deleted_flag: bigint, person_contacted_code: string, repayment_frequency_code: string, dt_generation_id: bigint, dt_transaction_id: string, dt_write_bln: boolean, last_updated_datetime: string, last_updated_id: bigint, last_updated_timestamp: string, additional_information: string, filepath: string, row_number: bigint, _1: array<bigint>, _2: bigint]\n"
     ]
    }
   ],
   "source": [
    "print(df_add)"
   ]
  },
  {
   "cell_type": "code",
   "execution_count": 37,
   "metadata": {},
   "outputs": [
    {
     "name": "stdout",
     "output_type": "stream",
     "text": [
      "+-------------------------+----------------------------+-----------+----------------------+--------------------+----------------------+-----------------+------------------------+----------------------+-------------------+-------------+----------------+------------+---------------------+------------------------+----------------+--------------------+------------+---------------------+---------------+----------------------+----------------------+--------------------+----------+\n",
      "|arrears_contact_detail_id|arrears_contact_detail_db_id|agreed_rate|agreed_rate_start_date|agreed_rate_end_date|army_personnel_details|asset_information|debt_agency_company_code|customer_contact_db_id|customer_contact_id|  customer_id|debt_agency_code|deleted_flag|person_contacted_code|repayment_frequency_code|dt_generation_id|   dt_transaction_id|dt_write_bln|last_updated_datetime|last_updated_id|last_updated_timestamp|additional_information|            filepath|row_number|\n",
      "+-------------------------+----------------------------+-----------+----------------------+--------------------+----------------------+-----------------+------------------------+----------------------+-------------------+-------------+----------------+------------+---------------------+------------------------+----------------+--------------------+------------+---------------------+---------------+----------------------+----------------------+--------------------+----------+\n",
      "|                     4800|                        1707|       null|                      |                    |                      |                 |                     ROM|                  1707|              14633|1707000034448|                |           0|                   EM|                        |               0|4D7AB755-D980-448...|        true|  26/03/2009 16:00:00|  1707000010013|      000000004F8BBC10|                      |s3://ipf-sds-data...|     45493|\n",
      "|                     4800|                        1708|       null|                      |                    |                      |                 |                     ROM|                  1708|               9248|1708000032278|                |           0|                   CU|                        |               0|DC110771-0A6E-480...|        true|  17/06/2009 15:43:00|  1708000020785|      000000005777CDEE|                      |s3://ipf-sds-data...|     45494|\n",
      "|                     4800|                        1712|       null|                      |                    |                      |                 |                     ROM|                  1712|             107820|1712000013120|                |           0|                   PA|                        |               0|46526D67-9E08-4B6...|        true|  10/04/2009 15:22:00|  1712000025327|      0000000050B3B044|                      |s3://ipf-sds-data...|     45495|\n",
      "|                     4800|                        1713|       null|                      |                    |                      |                 |                     ROM|                  1713|               7843|1713000025294|                |           0|                   CU|                        |               0|72391BC3-6329-4E6...|        true|  26/03/2009 16:49:00|  1713000024714|      000000004F8BDDC1|                      |s3://ipf-sds-data...|     45496|\n",
      "|                     4801|                        1701|       null|                      |                    |                      |                 |                     ROM|                  1701|              33183|1701000037357|                |           0|                   CU|                        |               0|B452964D-2A84-41D...|        true|  21/09/2007 14:40:00|  1701000010019|      000000000A665705|                      |s3://ipf-sds-data...|     45497|\n",
      "+-------------------------+----------------------------+-----------+----------------------+--------------------+----------------------+-----------------+------------------------+----------------------+-------------------+-------------+----------------+------------+---------------------+------------------------+----------------+--------------------+------------+---------------------+---------------+----------------------+----------------------+--------------------+----------+\n",
      "only showing top 5 rows\n",
      "\n"
     ]
    }
   ],
   "source": [
    "df.show(5)"
   ]
  },
  {
   "cell_type": "code",
   "execution_count": null,
   "metadata": {},
   "outputs": [],
   "source": []
  },
  {
   "cell_type": "code",
   "execution_count": null,
   "metadata": {},
   "outputs": [],
   "source": []
  },
  {
   "cell_type": "code",
   "execution_count": null,
   "metadata": {},
   "outputs": [],
   "source": []
  },
  {
   "cell_type": "code",
   "execution_count": null,
   "metadata": {},
   "outputs": [],
   "source": []
  },
  {
   "cell_type": "code",
   "execution_count": null,
   "metadata": {},
   "outputs": [],
   "source": []
  },
  {
   "cell_type": "code",
   "execution_count": null,
   "metadata": {},
   "outputs": [],
   "source": []
  },
  {
   "cell_type": "code",
   "execution_count": null,
   "metadata": {},
   "outputs": [],
   "source": []
  },
  {
   "cell_type": "code",
   "execution_count": null,
   "metadata": {},
   "outputs": [],
   "source": []
  },
  {
   "cell_type": "code",
   "execution_count": null,
   "metadata": {},
   "outputs": [],
   "source": []
  }
 ],
 "metadata": {
  "kernelspec": {
   "display_name": "Python 3",
   "language": "python",
   "name": "python3"
  },
  "language_info": {
   "codemirror_mode": {
    "name": "ipython",
    "version": 3
   },
   "file_extension": ".py",
   "mimetype": "text/x-python",
   "name": "python",
   "nbconvert_exporter": "python",
   "pygments_lexer": "ipython3",
   "version": "3.7.5"
  }
 },
 "nbformat": 4,
 "nbformat_minor": 4
}
